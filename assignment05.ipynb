{
 "cells": [
  {
   "cell_type": "markdown",
   "id": "be90d8a8",
   "metadata": {},
   "source": [
    "## 3. 생일이 느린 순서로 상위 10명 출력"
   ]
  },
  {
   "cell_type": "code",
   "execution_count": 1,
   "id": "b0d72420",
   "metadata": {
    "execution": {
     "iopub.execute_input": "2025-04-15T08:19:27.326486Z",
     "iopub.status.busy": "2025-04-15T08:19:27.326081Z",
     "iopub.status.idle": "2025-04-15T08:19:28.277739Z",
     "shell.execute_reply": "2025-04-15T08:19:28.276295Z"
    }
   },
   "outputs": [
    {
     "name": "stdout",
     "output_type": "stream",
     "text": [
      "이름: 홍서연, 학번: ******82, 생년월일: 20241282\n",
      "이름: 신수민, 학번: ******22, 생년월일: 20051230\n",
      "이름: 이서영, 학번: ******42, 생년월일: 20051225\n",
      "이름: 강민주, 학번: ******69, 생년월일: 20051214\n",
      "이름: 김민경, 학번: ******78, 생년월일: 20051202\n",
      "이름: 이서영, 학번: ******41, 생년월일: 20051112\n",
      "이름: 배시은, 학번: ******17, 생년월일: 20051102\n",
      "이름: 김여원, 학번: ******87, 생년월일: 20051031\n",
      "이름: 이서진, 학번: ******44, 생년월일: 20051028\n",
      "이름: 서홍빈, 학번: ******64, 생년월일: 20051024\n"
     ]
    }
   ],
   "source": [
    "\n",
    "import pandas as pd\n",
    "from heapq import heappush, heappop\n",
    "\n",
    "# CSV 로드\n",
    "df = pd.read_csv(\"birthday.csv\", encoding=\"cp949\")\n",
    "df = df.rename(columns={\"생년월일8자리(예.20040101)\": \"생년월일\"})\n",
    "df = df[df[\"생년월일\"].notna()]\n",
    "df[\"생년월일\"] = df[\"생년월일\"].astype(int)\n",
    "\n",
    "# 생일이 느린 순서 → 숫자가 클수록 높은 우선순위\n",
    "heap = []\n",
    "for _, row in df.iterrows():\n",
    "    heappush(heap, (-row[\"생년월일\"], row[\"이름\"], row[\"학번\"]))\n",
    "\n",
    "top_10 = []\n",
    "for _ in range(min(10, len(heap))):\n",
    "    bday, name, sid = heappop(heap)\n",
    "    top_10.append((-bday, name, sid))\n",
    "\n",
    "# 결과 출력\n",
    "for bday, name, sid in top_10:\n",
    "    print(f\"이름: {name}, 학번: {sid}, 생년월일: {bday}\")\n"
   ]
  },
  {
   "cell_type": "markdown",
   "id": "02423752",
   "metadata": {},
   "source": [
    "## 4. 이중 원형 연결 리스트로 같은 조 친구 출력 (4조 기준, 학번 41 이서영만 포함)"
   ]
  },
  {
   "cell_type": "code",
   "execution_count": 2,
   "id": "5055524e",
   "metadata": {
    "execution": {
     "iopub.execute_input": "2025-04-15T08:19:28.285236Z",
     "iopub.status.busy": "2025-04-15T08:19:28.284400Z",
     "iopub.status.idle": "2025-04-15T08:19:28.314267Z",
     "shell.execute_reply": "2025-04-15T08:19:28.313006Z"
    }
   },
   "outputs": [
    {
     "name": "stdout",
     "output_type": "stream",
     "text": [
      "🔸 4조 친구들 목록 (정확히 포함된 이름만):\n",
      "이름: 강민주, 생년월일: 20051214\n",
      "이름: 김나현, 생년월일: 20040203\n",
      "이름: 김민주, 생년월일: 20040517\n",
      "이름: 김민주, 생년월일: 20041026\n",
      "이름: 김시연, 생년월일: 20030910\n",
      "이름: 김채현, 생년월일: 20040409\n",
      "이름: 나주희, 생년월일: 20041104\n",
      "이름: 두경은, 생년월일: 20041105\n",
      "이름: 민고은, 생년월일: 20050214\n",
      "이름: 박지호, 생년월일: 20040728\n",
      "이름: 손지원, 생년월일: 20050620\n",
      "이름: 안정민, 생년월일: 20040501\n",
      "이름: 여지혜, 생년월일: 20051009\n",
      "이름: 윤혜진, 생년월일: 20050517\n",
      "이름: 이서영, 생년월일: 20051112\n",
      "이름: 이유빈, 생년월일: 20050601\n"
     ]
    }
   ],
   "source": [
    "\n",
    "from circularDoublyLinkedList import CircularDoublyLinkedList\n",
    "import pandas as pd\n",
    "\n",
    "team4_names = ['박지호','나주희','김채현','민고은','김나현','이서영','안정민','손지원',\n",
    "               '강민주','김민주','윤혜진','김시연','여지혜','두경은','이유빈']\n",
    "sy41_id = \"******41\"\n",
    "\n",
    "df = pd.read_csv(\"birthday.csv\", encoding=\"cp949\")\n",
    "df = df.rename(columns={\"생년월일8자리(예.20040101)\": \"생년월일\"})\n",
    "df = df[df[\"생년월일\"].notna()]\n",
    "df[\"생년월일\"] = df[\"생년월일\"].astype(int)\n",
    "\n",
    "cdll = CircularDoublyLinkedList()\n",
    "for _, row in df.iterrows():\n",
    "    if (row[\"이름\"] in team4_names and row[\"이름\"] != \"이서영\") or (row[\"이름\"] == \"이서영\" and row[\"학번\"] == sy41_id):\n",
    "        cdll.append(row[\"이름\"], row[\"생년월일\"], 4)\n",
    "\n",
    "print(\"🔸 4조 친구들 목록 (정확히 포함된 이름만):\")\n",
    "cdll.print_group(4)\n"
   ]
  },
  {
   "cell_type": "markdown",
   "id": "5b876ce0",
   "metadata": {},
   "source": [
    "## 5. 교재 8장 우선순위 큐 연습문제 풀이"
   ]
  },
  {
   "cell_type": "markdown",
   "id": "b97bd240",
   "metadata": {},
   "source": [
    "\n",
    "### 🔷 문제 1  \n",
    "**A. 예.** 힙은 부모 > 자식만 보장하므로, 더 깊은 노드가 더 작을 수는 있다.\n",
    "\n",
    "### 🔷 문제 2  \n",
    "**A. 아니다.** 마지막 원소는 최소값일 필요가 없음.\n",
    "\n",
    "### 🔷 문제 3  \n",
    "**A. 정확히 ⌊n/2⌋개.** 리프 노드는 스며들기 필요 없음.\n",
    "\n",
    "### 🔷 문제 4  \n",
    "**A.** 최선 O(1), 최악 O(log n)\n",
    "\n",
    "### 🔷 문제 5  \n",
    "**A.** 루트 삭제 후 마지막 원소를 루트에 → 스며들기 필요\n",
    "\n",
    "### 🔷 문제 6  \n",
    "**A.** 아래에서 위로 스며드는 방식이 효율적\n",
    "\n",
    "### 🔷 문제 7  \n",
    "**A.** 값 증가 시 스며오르기(percolate up)로 O(log n)\n"
   ]
  },
  {
   "cell_type": "markdown",
   "id": "20429176",
   "metadata": {},
   "source": [
    "## 6. LeetCode 703 – Kth Largest Element in a Stream"
   ]
  },
  {
   "cell_type": "code",
   "execution_count": 3,
   "id": "100890da",
   "metadata": {
    "execution": {
     "iopub.execute_input": "2025-04-15T08:19:28.323515Z",
     "iopub.status.busy": "2025-04-15T08:19:28.322903Z",
     "iopub.status.idle": "2025-04-15T08:19:28.334756Z",
     "shell.execute_reply": "2025-04-15T08:19:28.333468Z"
    }
   },
   "outputs": [
    {
     "name": "stdout",
     "output_type": "stream",
     "text": [
      "4\n",
      "5\n",
      "5\n",
      "8\n",
      "8\n"
     ]
    }
   ],
   "source": [
    "\n",
    "import heapq\n",
    "\n",
    "class KthLargest:\n",
    "\n",
    "    def __init__(self, k: int, nums: list[int]):\n",
    "        self.k = k\n",
    "        self.heap = nums\n",
    "        heapq.heapify(self.heap)\n",
    "        while len(self.heap) > k:\n",
    "            heapq.heappop(self.heap)\n",
    "\n",
    "    def add(self, val: int) -> int:\n",
    "        heapq.heappush(self.heap, val)\n",
    "        if len(self.heap) > self.k:\n",
    "            heapq.heappop(self.heap)\n",
    "        return self.heap[0]\n",
    "\n",
    "kth = KthLargest(3, [4, 5, 8, 2])\n",
    "print(kth.add(3))   # 4\n",
    "print(kth.add(5))   # 5\n",
    "print(kth.add(10))  # 5\n",
    "print(kth.add(9))   # 8\n",
    "print(kth.add(4))   # 8\n"
   ]
  }
 ],
 "metadata": {
  "language_info": {
   "codemirror_mode": {
    "name": "ipython",
    "version": 3
   },
   "file_extension": ".py",
   "mimetype": "text/x-python",
   "name": "python",
   "nbconvert_exporter": "python",
   "pygments_lexer": "ipython3",
   "version": "3.11.8"
  }
 },
 "nbformat": 4,
 "nbformat_minor": 5
}
