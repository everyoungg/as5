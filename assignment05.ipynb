{
 "cells": [
  {
   "cell_type": "markdown",
   "id": "ce908c04",
   "metadata": {},
   "source": [
    "## 3"
   ]
  },
  {
   "cell_type": "code",
   "execution_count": 1,
   "id": "fa26f2d3",
   "metadata": {
    "execution": {
     "iopub.execute_input": "2025-04-15T06:37:37.872856Z",
     "iopub.status.busy": "2025-04-15T06:37:37.872217Z",
     "iopub.status.idle": "2025-04-15T06:37:38.977558Z",
     "shell.execute_reply": "2025-04-15T06:37:38.976532Z"
    }
   },
   "outputs": [
    {
     "name": "stdout",
     "output_type": "stream",
     "text": [
      "이름: 안양준, 학번: ******20, 생년월일: 19851205\n",
      "이름: 김남은, 학번: ******15, 생년월일: 20000209\n",
      "이름: 박찬미, 학번: ******33, 생년월일: 20000507\n",
      "이름: 김주영, 학번: ******93, 생년월일: 20000922\n",
      "이름: 김연진, 학번: ******18, 생년월일: 20010826\n",
      "이름: 이아현, 학번: ******24, 생년월일: 20010904\n",
      "이름: 김효리, 학번: ******51, 생년월일: 20011212\n",
      "이름: 이우정, 학번: ******83, 생년월일: 20020324\n",
      "이름: 이진, 학번: ******91, 생년월일: 20020415\n",
      "이름: 오다현, 학번: ******77, 생년월일: 20020505\n"
     ]
    }
   ],
   "source": [
    "\n",
    "from heap import Heap\n",
    "import pandas as pd\n",
    "\n",
    "df = pd.read_csv(\"birthday.csv\", encoding=\"cp949\")\n",
    "df = df.rename(columns={\"생년월일8자리(예.20040101)\": \"생년월일\"})\n",
    "df = df[df[\"생년월일\"].notna()]\n",
    "df[\"생년월일\"] = df[\"생년월일\"].astype(int)\n",
    "\n",
    "heap = Heap()\n",
    "for _, row in df.iterrows():\n",
    "    heap.insert((-row[\"생년월일\"], row[\"이름\"], row[\"학번\"]))\n",
    "\n",
    "for _ in range(min(10, heap.size())):\n",
    "    bday, name, sid = heap.deleteMax()\n",
    "    print(f\"이름: {name}, 학번: {sid}, 생년월일: {-bday}\")\n"
   ]
  },
  {
   "cell_type": "markdown",
   "id": "02423752",
   "metadata": {},
   "source": [
    "## 4"
   ]
  },
  {
   "cell_type": "code",
   "execution_count": 2,
   "id": "5055524e",
   "metadata": {
    "execution": {
     "iopub.execute_input": "2025-04-15T06:37:38.986020Z",
     "iopub.status.busy": "2025-04-15T06:37:38.984645Z",
     "iopub.status.idle": "2025-04-15T06:37:39.015336Z",
     "shell.execute_reply": "2025-04-15T06:37:39.013910Z"
    }
   },
   "outputs": [
    {
     "name": "stdout",
     "output_type": "stream",
     "text": [
      " 4조:\n",
      "이름: 강민주, 생년월일: 20051214\n",
      "이름: 김나현, 생년월일: 20040203\n",
      "이름: 김민주, 생년월일: 20040517\n",
      "이름: 김민주, 생년월일: 20041026\n",
      "이름: 김시연, 생년월일: 20030910\n",
      "이름: 김채현, 생년월일: 20040409\n",
      "이름: 나주희, 생년월일: 20041104\n",
      "이름: 두경은, 생년월일: 20041105\n",
      "이름: 민고은, 생년월일: 20050214\n",
      "이름: 박지호, 생년월일: 20040728\n",
      "이름: 손지원, 생년월일: 20050620\n",
      "이름: 안정민, 생년월일: 20040501\n",
      "이름: 여지혜, 생년월일: 20051009\n",
      "이름: 윤혜진, 생년월일: 20050517\n",
      "이름: 이서영, 생년월일: 20051112\n",
      "이름: 이유빈, 생년월일: 20050601\n"
     ]
    }
   ],
   "source": [
    "\n",
    "from circularDoublyLinkedList import CircularDoublyLinkedList\n",
    "import pandas as pd\n",
    "\n",
    "team4_names = ['박지호','나주희','김채현','민고은','김나현','이서영','안정민','손지원',\n",
    "               '강민주','김민주','윤혜진','김시연','여지혜','두경은','이유빈']\n",
    "sy41_id = \"******41\"\n",
    "\n",
    "df = pd.read_csv(\"birthday.csv\", encoding=\"cp949\")\n",
    "df = df.rename(columns={\"생년월일8자리(예.20040101)\": \"생년월일\"})\n",
    "df = df[df[\"생년월일\"].notna()]\n",
    "df[\"생년월일\"] = df[\"생년월일\"].astype(int)\n",
    "\n",
    "cdll = CircularDoublyLinkedList()\n",
    "for _, row in df.iterrows():\n",
    "    if (row[\"이름\"] in team4_names and row[\"이름\"] != \"이서영\") or (row[\"이름\"] == \"이서영\" and row[\"학번\"] == sy41_id):\n",
    "        cdll.append(row[\"이름\"], row[\"생년월일\"], 4)\n",
    "\n",
    "print(\" 4조 친구들 목록:\")\n",
    "cdll.print_group(4)\n"
   ]
  },
  {
   "cell_type": "markdown",
   "id": "5b876ce0",
   "metadata": {},
   "source": [
    "## 5."
   ]
  },
  {
   "cell_type": "markdown",
   "id": "b97bd240",
   "metadata": {},
   "source": [
    "\n",
    "### 문제 1  \n",
    "**A. 예.** 힙은 부모 > 자식만 보장하므로, 더 깊은 노드가 더 작을 수는 있다.\n",
    "\n",
    "### 문제 2  \n",
    "**A. 아니다.** 마지막 원소는 최소값일 필요가 없음.\n",
    "\n",
    "### 문제 3  \n",
    "**A. 정확히 ⌊n/2⌋개.** 리프 노드는 스며들기 필요 없음.\n",
    "\n",
    "### 문제 4  \n",
    "**A.** 최선 O(1), 최악 O(log n)\n",
    "\n",
    "### 문제 5  \n",
    "**A.** 루트 삭제 후 마지막 원소를 루트에 → 스며들기 필요\n",
    "\n",
    "### 문제 6  \n",
    "**A.** 아래에서 위로 스며드는 방식이 효율적\n",
    "\n",
    "### 문제 7  \n",
    "**A.** 값 증가 시 스며오르기(percolate up)로 O(log n)\n"
   ]
  },
  {
   "cell_type": "markdown",
   "id": "20429176",
   "metadata": {},
   "source": [
    "## 6. LeetCode 703 "
   ]
  },
  {
   "cell_type": "code",
   "execution_count": 3,
   "id": "100890da",
   "metadata": {
    "execution": {
     "iopub.execute_input": "2025-04-15T06:37:39.027084Z",
     "iopub.status.busy": "2025-04-15T06:37:39.026225Z",
     "iopub.status.idle": "2025-04-15T06:37:39.039126Z",
     "shell.execute_reply": "2025-04-15T06:37:39.037922Z"
    }
   },
   "outputs": [
    {
     "name": "stdout",
     "output_type": "stream",
     "text": [
      "4\n",
      "5\n",
      "5\n",
      "8\n",
      "8\n"
     ]
    }
   ],
   "source": [
    "\n",
    "import heapq\n",
    "\n",
    "class KthLargest:\n",
    "\n",
    "    def __init__(self, k: int, nums: list[int]):\n",
    "        self.k = k\n",
    "        self.heap = nums\n",
    "        heapq.heapify(self.heap)\n",
    "        while len(self.heap) > k:\n",
    "            heapq.heappop(self.heap)\n",
    "\n",
    "    def add(self, val: int) -> int:\n",
    "        heapq.heappush(self.heap, val)\n",
    "        if len(self.heap) > self.k:\n",
    "            heapq.heappop(self.heap)\n",
    "        return self.heap[0]\n",
    "\n",
    "kth = KthLargest(3, [4, 5, 8, 2])\n",
    "print(kth.add(3))   # 4\n",
    "print(kth.add(5))   # 5\n",
    "print(kth.add(10))  # 5\n",
    "print(kth.add(9))   # 8\n",
    "print(kth.add(4))   # 8\n"
   ]
  }
 ],
 "metadata": {
  "language_info": {
   "codemirror_mode": {
    "name": "ipython",
    "version": 3
   },
   "file_extension": ".py",
   "mimetype": "text/x-python",
   "name": "python",
   "nbconvert_exporter": "python",
   "pygments_lexer": "ipython3",
   "version": "3.11.8"
  }
 },
 "nbformat": 4,
 "nbformat_minor": 5
}
