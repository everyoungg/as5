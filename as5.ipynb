{
 "cells": [
  {
   "cell_type": "markdown",
   "id": "bd964d74",
   "metadata": {},
   "source": [
     "## 3"
   ]
  },
  {
   "cell_type": "code",
   "execution_count": null,
   "id": "e83f3aef",
   "metadata": {},
   "outputs": [],
   "source": [
    "\n",
    "from heap import Heap\n",
    "import pandas as pd\n",
    "\n",
    "df = pd.read_csv(\"birthday.csv\", encoding=\"cp949\")\n",
    "df = df.rename(columns={\"생년월일8자리(예.20040101)\": \"생년월일\"})\n",
    "df = df[df[\"생년월일\"].notna()]\n",
    "df[\"생년월일\"] = df[\"생년월일\"].astype(int)\n",
    "\n",
    "heap = Heap()\n",
    "for _, row in df.iterrows():\n",
    "    heap.push((-row[\"생년월일\"], row[\"이름\"], row[\"학번\"]))\n",
    "\n",
    "for _ in range(min(10, heap.size())):\n",
    "    bday, name, sid = heap.pop()\n",
    "    print(f\"이름: {name}, 학번: {sid}, 생년월일: {-bday}\")\n"
   ]
  },
  {
   "cell_type": "markdown",
   "id": "78a8e16e",
   "metadata": {},
   "source": [
    "## 4"
   ]
  },
  {
   "cell_type": "code",
   "execution_count": null,
   "id": "8839f526",
   "metadata": {},
   "outputs": [],
   "source": [
    "\n",
    "from circularDoublyLinkedList import CircularDoublyLinkedList\n",
    "import pandas as pd\n",
    "\n",
    "# 4조 학생 명단\n",
    "team4_names = ['박지호','나주희','김채현','민고은','김나현','이서영','안정민','손지원',\n",
    "               '강민주','김민주','윤혜진','김시연','여지혜','두경은','이유빈']\n",
    "\n",
    "df = pd.read_csv(\"birthday.csv\", encoding=\"cp949\")\n",
    "df = df.rename(columns={\"생년월일8자리(예.20040101)\": \"생년월일\"})\n",
    "df = df[df[\"생년월일\"].notna()]\n",
    "df[\"생년월일\"] = df[\"생년월일\"].astype(int)\n",
    "\n",
    "cdll = CircularDoublyLinkedList()\n",
    "for _, row in df.iterrows():\n",
    "    if row[\"이름\"] in team4_names:\n",
    "        cdll.append(row[\"이름\"], row[\"생년월일\"], 4)\n",
    "\n",
    "print(\"🔸 4조 친구들 목록\")\n",
    "cdll.print_group(4)\n"
   ]
  },
  {
   "cell_type": "markdown",
   "id": "8a1b494e",
   "metadata": {},
   "source": [
    "## 5"
   ]
  },
  {
   "cell_type": "markdown",
   "id": "ab1f8b8c",
   "metadata": {},
   "source": [
    "\n",
    "### 문제 1  \n",
    "**A. 예.** 힙은 부모 > 자식만 보장하므로, 더 깊은 노드가 더 작을 수는 있다.\n",
    "\n",
    "### 문제 2  \n",
    "**A. 아니다.** 마지막 원소는 최소값일 필요가 없음.\n",
    "\n",
    "### 문제 3  \n",
    "**A. 정확히 ⌊n/2⌋개.** 리프 노드는 스며들기 필요 없음.\n",
    "\n",
    "### 문제 4  \n",
    "**A.** 최선 O(1), 최악 O(log n)\n",
    "\n",
    "### 문제 5  \n",
    "**A.** 루트 삭제 후 마지막 원소를 루트에 → 스며들기 필요\n",
    "\n",
    "### 문제 6  \n",
    "**A.** 아래에서 위로 스며드는 방식이 효율적\n",
    "\n",
    "### 문제 7  \n",
    "**A.** 값 증가 시 스며오르기(percolate up)로 O(log n)\n"
   ]
  },
  {
   "cell_type": "markdown",
   "id": "332ba85a",
   "metadata": {},
   "source": [
    "## 6"
   ]
  },
  {
   "cell_type": "code",
   "execution_count": null,
   "id": "2c87ba5b",
   "metadata": {},
   "outputs": [],
   "source": [
    "\n",
    "import heapq\n",
    "\n",
    "class KthLargest:\n",
    "\n",
    "    def __init__(self, k: int, nums: list[int]):\n",
    "        self.k = k\n",
    "        self.heap = nums\n",
    "        heapq.heapify(self.heap)\n",
    "        while len(self.heap) > k:\n",
    "            heapq.heappop(self.heap)\n",
    "\n",
    "    def add(self, val: int) -> int:\n",
    "        heapq.heappush(self.heap, val)\n",
    "        if len(self.heap) > self.k:\n",
    "            heapq.heappop(self.heap)\n",
    "        return self.heap[0]\n",
    "\n",
    "kth = KthLargest(3, [4, 5, 8, 2])\n",
    "print(kth.add(3))   # 4\n",
    "print(kth.add(5))   # 5\n",
    "print(kth.add(10))  # 5\n",
    "print(kth.add(9))   # 8\n",
    "print(kth.add(4))   # 8\n"
   ]
  }
 ],
 "metadata": {},
 "nbformat": 4,
 "nbformat_minor": 5
}
