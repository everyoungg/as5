{
 "cells": [
  {
   "cell_type": "markdown",
   "id": "2afec84c",
   "metadata": {},
   "source": [
    "## 3. 힙을 이용한 생일 정렬 (느린 생일 순 = 나이가 어린 순)"
   ]
  },
  {
   "cell_type": "code",
   "execution_count": null,
   "id": "b61a4021",
   "metadata": {},
   "outputs": [],
   "source": [
    "\n",
    "from heap import Heap\n",
    "import pandas as pd\n",
    "\n",
    "df = pd.read_csv(\"birthday.csv\", encoding=\"cp949\")\n",
    "df = df.rename(columns={\"생년월일8자리(예.20040101)\": \"생년월일\"})\n",
    "df = df[df[\"생년월일\"].notna()]\n",
    "df[\"생년월일\"] = df[\"생년월일\"].astype(int)\n",
    "\n",
    "heap = Heap()\n",
    "for _, row in df.iterrows():\n",
    "    # 생일이 느린 순서 = 나이가 어린 순서\n",
    "    heap.insert((row[\"생년월일\"], row[\"이름\"], row[\"학번\"]))\n",
    "\n",
    "for _ in range(min(10, heap.size())):\n",
    "    bday, name, sid = heap.deleteMax()\n",
    "    print(f\"이름: {name}, 학번: {sid}, 생년월일: {bday}\")\n"
   ]
  }
 ],
 "metadata": {},
 "nbformat": 4,
 "nbformat_minor": 5
}
